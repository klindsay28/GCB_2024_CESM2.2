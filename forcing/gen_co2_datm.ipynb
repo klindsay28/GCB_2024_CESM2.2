{
 "cells": [
  {
   "cell_type": "code",
   "execution_count": 1,
   "id": "b186c8f7-baff-4ae4-bda3-7eccaa03f8a5",
   "metadata": {},
   "outputs": [],
   "source": [
    "from datetime import datetime\n",
    "import math\n",
    "\n",
    "import matplotlib.pyplot as plt\n",
    "import numpy as np\n",
    "import pandas as pd\n",
    "import xarray as xr"
   ]
  },
  {
   "cell_type": "markdown",
   "id": "1ced705a-f989-414b-b385-d732e00e21a2",
   "metadata": {},
   "source": [
    "# Read input data"
   ]
  },
  {
   "cell_type": "code",
   "execution_count": 2,
   "id": "da1ef4a2-840a-4716-9f00-c376d0eb7e8f",
   "metadata": {},
   "outputs": [
    {
     "name": "stdout",
     "output_type": "stream",
     "text": [
      "             Source      time  year  month         CO2   CO2_trend\n",
      "0     Joos & Spahni  1750.042  1750      1  278.616087  277.766770\n",
      "1     Joos & Spahni  1750.125  1750      2  278.928941  277.763822\n",
      "2     Joos & Spahni  1750.208  1750      3  279.222544  277.760877\n",
      "3     Joos & Spahni  1750.292  1750      4  279.480197  277.757935\n",
      "4     Joos & Spahni  1750.375  1750      5  279.354402  277.754997\n",
      "...             ...       ...   ...    ...         ...         ...\n",
      "3284           NOAA  2023.708  2023      9  417.050000  419.880000\n",
      "3285           NOAA  2023.792  2023     10  418.740000  420.240000\n",
      "3286           NOAA  2023.875  2023     11  420.360000  420.500000\n",
      "3287           NOAA  2023.958  2023     12  421.570000  420.910000\n",
      "3288           NOAA  2024.042  2024      1  422.160000  421.090000\n",
      "\n",
      "[3289 rows x 6 columns]\n"
     ]
    },
    {
     "data": {
      "image/png": "[encoded data removed]",
      "text/plain": [
       "<Figure size 432x288 with 1 Axes>"
      ]
     },
     "metadata": {
      "needs_background": "light"
     },
     "output_type": "display_data"
    }
   ],
   "source": [
    "path_in = \"Atm_CO2_forcing.csv\"\n",
    "\n",
    "data_in = pd.read_table(\n",
    "    path_in,\n",
    "    skiprows=21,\n",
    "    skipinitialspace=True,\n",
    "    sep=\",\",\n",
    "    names=[\"Source\", \"time\", \"year\", \"month\", \"CO2\", \"CO2_trend\"]\n",
    ")\n",
    "\n",
    "print(data_in)\n",
    "\n",
    "plt.plot(data_in[\"time\"][:60], data_in[\"CO2\"][:60]);\n",
    "plt.show()"
   ]
  },
  {
   "cell_type": "markdown",
   "id": "ea0de7a8-1944-43b5-ac47-603cd349ef4e",
   "metadata": {},
   "source": [
    "# Create xarray Dataset from input data"
   ]
  },
  {
   "cell_type": "code",
   "execution_count": 3,
   "id": "5aa3ad3c-5dad-422c-adeb-4500129112a5",
   "metadata": {},
   "outputs": [
    {
     "name": "stdout",
     "output_type": "stream",
     "text": [
      "<xarray.DataArray 'time' (time: 3289)>\n",
      "array([ 18265.33 ,  18295.625,  18325.92 , ..., 118214.375, 118244.67 ,\n",
      "       118275.33 ])\n",
      "Coordinates:\n",
      "  * time     (time) float64 1.827e+04 1.83e+04 1.833e+04 ... 1.182e+05 1.183e+05\n",
      "Attributes:\n",
      "    long_name:  time\n",
      "    units:      days since 1700-01-01\n",
      "    calendar:   noleap\n"
     ]
    }
   ],
   "source": [
    "t_vals = (data_in[\"time\"] - 1700.0) * 365.0\n",
    "time = xr.DataArray(\n",
    "    data=t_vals,\n",
    "    coords={\"time\": t_vals},\n",
    "    attrs={\"long_name\": \"time\", \"units\": \"days since 1700-01-01\", \"calendar\": \"noleap\"},\n",
    ")\n",
    "print(time)\n",
    "\n",
    "lat_val = [0.0]\n",
    "lat = xr.DataArray(\n",
    "    data=lat_val, coords={\"lat\": lat_val}, attrs={\"long_name\": \"latitude\", \"units\": \"degrees_north\"}\n",
    ")\n",
    "\n",
    "lon_val = [180.0]\n",
    "lon = xr.DataArray(\n",
    "    data=lon_val, coords={\"lon\": lon_val}, attrs={\"long_name\": \"longitude\", \"units\": \"degrees_east\"}\n",
    ")"
   ]
  },
  {
   "cell_type": "code",
   "execution_count": 4,
   "id": "9c4a6521-ab3d-4b82-8043-5c7e07fe6815",
   "metadata": {},
   "outputs": [],
   "source": [
    "area = xr.DataArray(\n",
    "    data=[[4.0*math.pi]],\n",
    "    coords={\"lat\": lat, \"lon\": lon},\n",
    "    attrs={\"long_name\": \"grid cell area\", \"units\": \"radians^2\"},\n",
    ")\n",
    "\n",
    "mask = xr.DataArray(\n",
    "    data=[[1.0]],\n",
    "    coords={\"lat\": lat, \"lon\": lon},\n",
    "    attrs={\"long_name\": \"Mask of active cells: 1=active\", \"units\": \"unitless\"},\n",
    ")\n",
    "\n",
    "CO2 = xr.DataArray(\n",
    "    data=np.expand_dims(data_in[\"CO2\"].values, (-2, -1)),\n",
    "    coords={\"time\": time, \"lat\": lat, \"lon\": lon},\n",
    "    attrs={\"long_name\": \"atmospheric CO2 concentration\", \"units\": \"ppmv\"},\n",
    ")\n",
    "\n",
    "CO2_trend = xr.DataArray(\n",
    "    data=np.expand_dims(data_in[\"CO2_trend\"].values, (-2, -1)),\n",
    "    coords={\"time\": time, \"lat\": lat, \"lon\": lon},\n",
    "    attrs={\"long_name\": \"atmospheric CO2 concentration\", \"units\": \"ppmv\"},\n",
    ")"
   ]
  },
  {
   "cell_type": "code",
   "execution_count": 5,
   "id": "458e0da0-7b51-4732-a1d6-8ff0f1a5c3d9",
   "metadata": {
    "tags": []
   },
   "outputs": [
    {
     "name": "stdout",
     "output_type": "stream",
     "text": [
      "<xarray.Dataset>\n",
      "Dimensions:    (time: 3289, lat: 1, lon: 1)\n",
      "Coordinates:\n",
      "  * time       (time) float64 1.827e+04 1.83e+04 ... 1.182e+05 1.183e+05\n",
      "  * lat        (lat) float64 0.0\n",
      "  * lon        (lon) float64 180.0\n",
      "Data variables:\n",
      "    area       (lat, lon) float64 12.57\n",
      "    mask       (lat, lon) float64 1.0\n",
      "    CO2        (time, lat, lon) float64 278.6 278.9 279.2 ... 420.4 421.6 422.2\n",
      "    CO2_trend  (time, lat, lon) float64 277.8 277.8 277.8 ... 420.5 420.9 421.1\n",
      "Attributes:\n",
      "    input_file_list:  Atm_CO2_forcing.csv\n",
      "    date_created:     2024-06-19 13:05:24.290855\n"
     ]
    }
   ],
   "source": [
    "ds = xr.Dataset(\n",
    "    data_vars={\"time\": time, \"area\": area, \"mask\": mask, \"CO2\": CO2, \"CO2_trend\": CO2_trend}\n",
    ")\n",
    "ds.attrs[\"input_file_list\"] = path_in\n",
    "ds.attrs[\"date_created\"] = f\"{datetime.now()}\"\n",
    "ds.encoding[\"unlimited_dims\"] = \"time\"\n",
    "print(ds)"
   ]
  },
  {
   "cell_type": "markdown",
   "id": "500e695b-fc77-4673-bd5a-1e0784647e70",
   "metadata": {
    "tags": []
   },
   "source": [
    "# Write Dataset to netCDF file"
   ]
  },
  {
   "cell_type": "code",
   "execution_count": 6,
   "id": "7b6410bd-0128-4d9f-8457-a8aa0709ddb1",
   "metadata": {},
   "outputs": [],
   "source": [
    "for d in [ds.data_vars, ds.coords]:\n",
    "    for varname in d:\n",
    "        if \"_FillValue\" not in d[varname].encoding:\n",
    "            d[varname].encoding[\"_FillValue\"] = None"
   ]
  },
  {
   "cell_type": "code",
   "execution_count": 7,
   "id": "0e8fbdf7-9b7e-4c16-be10-9b3a01738503",
   "metadata": {},
   "outputs": [
    {
     "name": "stdout",
     "output_type": "stream",
     "text": [
      "creating fco2_datm_global_GCB_2024_1750-2023_c20240619.nc\n"
     ]
    }
   ],
   "source": [
    "datestamp = datetime.now().strftime(\"%Y%m%d\")\n",
    "path_out = f\"fco2_datm_global_GCB_2024_1750-2023_c{datestamp}.nc\"\n",
    "print(f\"creating {path_out}\")\n",
    "ds.to_netcdf(path_out)"
   ]
  },
  {
   "cell_type": "markdown",
   "id": "3ba7834d-7857-4595-b4b6-40159983ac28",
   "metadata": {
    "tags": []
   },
   "source": [
    "# Confirm that netCDF file can be read back in"
   ]
  },
  {
   "cell_type": "code",
   "execution_count": 8,
   "id": "658cfaf8-3645-4736-9b74-5067b44eedad",
   "metadata": {},
   "outputs": [
    {
     "name": "stdout",
     "output_type": "stream",
     "text": [
      "<xarray.Dataset>\n",
      "Dimensions:    (time: 3289, lat: 1, lon: 1)\n",
      "Coordinates:\n",
      "  * time       (time) object 1750-01-16 07:55:11.999997 ... 2024-01-16 07:55:...\n",
      "  * lat        (lat) float64 0.0\n",
      "  * lon        (lon) float64 180.0\n",
      "Data variables:\n",
      "    area       (lat, lon) float64 ...\n",
      "    mask       (lat, lon) float64 ...\n",
      "    CO2        (time, lat, lon) float64 ...\n",
      "    CO2_trend  (time, lat, lon) float64 ...\n",
      "Attributes:\n",
      "    input_file_list:  Atm_CO2_forcing.csv\n",
      "    date_created:     2024-06-19 13:05:24.290855\n"
     ]
    }
   ],
   "source": [
    "ds2 = xr.open_dataset(path_out)\n",
    "print(ds2)"
   ]
  },
  {
   "cell_type": "code",
   "execution_count": null,
   "id": "a7297a51-7606-4209-9f23-bedc09917e72",
   "metadata": {},
   "outputs": [],
   "source": []
  }
 ],
 "metadata": {
  "kernelspec": {
   "display_name": "Python [conda env:miniconda3-GCB_2022]",
   "language": "python",
   "name": "conda-env-miniconda3-GCB_2022-py"
  },
  "language_info": {
   "codemirror_mode": {
    "name": "ipython",
    "version": 3
   },
   "file_extension": ".py",
   "mimetype": "text/x-python",
   "name": "python",
   "nbconvert_exporter": "python",
   "pygments_lexer": "ipython3",
   "version": "3.8.13"
  }
 },
 "nbformat": 4,
 "nbformat_minor": 5
}
